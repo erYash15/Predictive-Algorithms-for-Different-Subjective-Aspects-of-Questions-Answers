{
 "cells": [
  {
   "cell_type": "code",
   "execution_count": 1,
   "metadata": {},
   "outputs": [],
   "source": [
    "import pandas as pd"
   ]
  },
  {
   "cell_type": "code",
   "execution_count": 3,
   "metadata": {},
   "outputs": [
    {
     "name": "stdout",
     "output_type": "stream",
     "text": [
      "<class 'pandas.core.frame.DataFrame'>\n",
      "RangeIndex: 6079 entries, 0 to 6078\n",
      "Data columns (total 41 columns):\n",
      " #   Column                                 Non-Null Count  Dtype  \n",
      "---  ------                                 --------------  -----  \n",
      " 0   qa_id                                  6079 non-null   int64  \n",
      " 1   question_title                         6079 non-null   object \n",
      " 2   question_body                          6079 non-null   object \n",
      " 3   question_user_name                     6079 non-null   object \n",
      " 4   question_user_page                     6079 non-null   object \n",
      " 5   answer                                 6079 non-null   object \n",
      " 6   answer_user_name                       6079 non-null   object \n",
      " 7   answer_user_page                       6079 non-null   object \n",
      " 8   url                                    6079 non-null   object \n",
      " 9   category                               6079 non-null   object \n",
      " 10  host                                   6079 non-null   object \n",
      " 11  question_asker_intent_understanding    6079 non-null   float64\n",
      " 12  question_body_critical                 6079 non-null   float64\n",
      " 13  question_conversational                6079 non-null   float64\n",
      " 14  question_expect_short_answer           6079 non-null   float64\n",
      " 15  question_fact_seeking                  6079 non-null   float64\n",
      " 16  question_has_commonly_accepted_answer  6079 non-null   float64\n",
      " 17  question_interestingness_others        6079 non-null   float64\n",
      " 18  question_interestingness_self          6079 non-null   float64\n",
      " 19  question_multi_intent                  6079 non-null   float64\n",
      " 20  question_not_really_a_question         6079 non-null   float64\n",
      " 21  question_opinion_seeking               6079 non-null   float64\n",
      " 22  question_type_choice                   6079 non-null   float64\n",
      " 23  question_type_compare                  6079 non-null   float64\n",
      " 24  question_type_consequence              6079 non-null   float64\n",
      " 25  question_type_definition               6079 non-null   float64\n",
      " 26  question_type_entity                   6079 non-null   float64\n",
      " 27  question_type_instructions             6079 non-null   float64\n",
      " 28  question_type_procedure                6079 non-null   float64\n",
      " 29  question_type_reason_explanation       6079 non-null   float64\n",
      " 30  question_type_spelling                 6079 non-null   float64\n",
      " 31  question_well_written                  6079 non-null   float64\n",
      " 32  answer_helpful                         6079 non-null   float64\n",
      " 33  answer_level_of_information            6079 non-null   float64\n",
      " 34  answer_plausible                       6079 non-null   float64\n",
      " 35  answer_relevance                       6079 non-null   float64\n",
      " 36  answer_satisfaction                    6079 non-null   float64\n",
      " 37  answer_type_instructions               6079 non-null   float64\n",
      " 38  answer_type_procedure                  6079 non-null   float64\n",
      " 39  answer_type_reason_explanation         6079 non-null   float64\n",
      " 40  answer_well_written                    6079 non-null   float64\n",
      "dtypes: float64(30), int64(1), object(10)\n",
      "memory usage: 1.9+ MB\n"
     ]
    }
   ],
   "source": [
    "pd.read_csv('train.csv').info()"
   ]
  },
  {
   "cell_type": "code",
   "execution_count": null,
   "metadata": {},
   "outputs": [],
   "source": []
  }
 ],
 "metadata": {
  "kernelspec": {
   "display_name": "Python 3.9.7 ('base')",
   "language": "python",
   "name": "python3"
  },
  "language_info": {
   "codemirror_mode": {
    "name": "ipython",
    "version": 3
   },
   "file_extension": ".py",
   "mimetype": "text/x-python",
   "name": "python",
   "nbconvert_exporter": "python",
   "pygments_lexer": "ipython3",
   "version": "3.9.7"
  },
  "orig_nbformat": 4,
  "vscode": {
   "interpreter": {
    "hash": "8a686f9c2e275275d597e1047cf225e293e8d9f32f9d19f9a43b39c9a20d2dd2"
   }
  }
 },
 "nbformat": 4,
 "nbformat_minor": 2
}
